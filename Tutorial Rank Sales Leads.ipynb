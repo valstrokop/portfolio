{
 "cells": [
  {
   "cell_type": "code",
   "execution_count": 40,
   "metadata": {},
   "outputs": [],
   "source": [
    "import os\n",
    "import numpy as np\n",
    "import pandas as pd\n",
    "from sklearn.ensemble import RandomForestClassifier\n",
    "from sklearn.metrics import roc_auc_score"
   ]
  },
  {
   "cell_type": "code",
   "execution_count": 41,
   "metadata": {},
   "outputs": [],
   "source": [
    "# Display Settings\n",
    "pd.set_option('display.max_rows', 10)\n",
    "pd.set_option('display.max_columns', 20)\n",
    "pd.set_option('display.width', 190)"
   ]
  },
  {
   "cell_type": "code",
   "execution_count": 42,
   "metadata": {},
   "outputs": [],
   "source": [
    "#Set working directory\n",
    "os.chdir('/Users/valentinas/Desktop/Py/Rank Sales Leads')"
   ]
  },
  {
   "cell_type": "code",
   "execution_count": 57,
   "metadata": {},
   "outputs": [
    {
     "name": "stdout",
     "output_type": "stream",
     "text": [
      "    LeadID       CompanyName  TypeOfBusiness  FacebookLikes  TwitterFollowers                 Website PhoneNumber       Contact   Sale\n",
      "0        8     Lots O' Stuff    corner store            NaN               NaN          lotsostuff.net  3106358130         owner  False\n",
      "1        9  Rampart Supplies    corner store            7.0               NaN                     NaN  5045973037  general line  False\n",
      "2        4  Joe's Hobby Shop  hobbies & toys            NaN               NaN                     NaN  5043304798         other  False\n",
      "3       28   Smokes and Beer    corner store            NaN               NaN                     NaN  5046995720         other  False\n",
      "4       10           Missy's         cothing            NaN               NaN  missysclothesstore.net  5045705441         other  False\n",
      "..     ...               ...             ...            ...               ...                     ...         ...           ...    ...\n",
      "15      18        Car Rescue      auto parts            NaN              21.0                     NaN  3109785061         other  False\n",
      "16      26      Juicy Burger      restaurant          112.0              20.0                     NaN  3103833242         other  False\n",
      "17      15      Fresh Market         grocery            NaN               NaN  freshmarketgrocery.com  5041375023  general line  False\n",
      "18      25      Fix It Right      auto parts          101.0              71.0      fixitrightauto.net  3101172830  general line  False\n",
      "19      14    Notary Express      law office           63.0              20.0     notaryexpress4u.com  6464267124       manager  False\n",
      "\n",
      "[20 rows x 9 columns]\n"
     ]
    }
   ],
   "source": [
    "#Data\n",
    "train = pd.read_csv(\"train.csv\", dtype={'PhoneNumber':str})\n",
    "test = pd.read_csv(\"test.csv\", dtype={'PhoneNumber':str})\n",
    "display(train.head(n=10))"
    "display(test.head(n=10))"
   ]
  },
  {
   "cell_type": "code",
   "execution_count": 44,
   "metadata": {},
   "outputs": [
    {
     "data": {
      "text/plain": [
       "0"
      ]
     },
     "execution_count": 44,
     "metadata": {},
     "output_type": "execute_result"
    }
   ],
   "source": [
    "train.Sale.sum()/train.shape[0]"
   ]
  },
  {
   "cell_type": "code",
   "execution_count": 45,
   "metadata": {},
   "outputs": [],
   "source": [
    "# TypeOfBusiness\n",
    "\n",
    "# Convert NaN to \"NA_Val\"\n",
    "train.TypeOfBusiness.fillna('NA_Val', inplace=True)\n",
    "test.TypeOfBusiness.fillna('NA_Val', inplace=True)\n",
    "\n",
    "# To help avoid overfitting, and to reduce the number of columns generated from one-hot-encoding,\n",
    "# we will mark uncommon business types as \"other\" (freq <= 1)\n",
    "tobMap = train.groupby('TypeOfBusiness')['TypeOfBusiness'].agg({'count'}).reset_index()\n",
    "tobMap['TOBGroup'] = tobMap.TypeOfBusiness\n",
    "tobMap.loc[tobMap['count'] <= 1, 'TOBGroup'] = 'other'\n",
    "train = train.merge(tobMap.drop('count', axis=1), on='TypeOfBusiness', how='left')\n",
    "test = test.merge(tobMap.drop('count', axis=1), on='TypeOfBusiness', how='left')\n",
    "\n",
    "# one-hot-encode\n",
    "tob_groups = tobMap.TOBGroup.unique()\n",
    "train['TOBGroup'] = pd.Categorical(train.TOBGroup, categories=tob_groups)\n",
    "train_tob_dummies = pd.get_dummies(train.TOBGroup, prefix='TOB')\n",
    "train = pd.concat([train, train_tob_dummies], axis=1)\n",
    "test['TOBGroup'] = pd.Categorical(test.TOBGroup, categories=tob_groups)\n",
    "test_tob_dummies = pd.get_dummies(test.TOBGroup, prefix='TOB')\n",
    "test = pd.concat([test, test_tob_dummies], axis=1)\n"
   ]
  },
  {
   "cell_type": "code",
   "execution_count": 46,
   "metadata": {},
   "outputs": [
    {
     "name": "stdout",
     "output_type": "stream",
     "text": [
      "0        law office\n",
      "1            NA_Val\n",
      "2        restaurant\n",
      "3    hobbies & toys\n",
      "4        restaurant\n",
      "5           grocery\n",
      "6            NA_Val\n",
      "7            NA_Val\n",
      "8             books\n",
      "9        law office\n",
      "Name: TypeOfBusiness, dtype: object 0       corner store\n",
      "1       corner store\n",
      "2     hobbies & toys\n",
      "3       corner store\n",
      "4            cothing\n",
      "           ...      \n",
      "15        auto parts\n",
      "16        restaurant\n",
      "17           grocery\n",
      "18        auto parts\n",
      "19        law office\n",
      "Name: TypeOfBusiness, Length: 20, dtype: object\n"
     ]
    }
   ],
   "source": [
    "print test.TypeOfBusiness,train.TypeOfBusiness"
   ]
  },
  {
   "cell_type": "code",
   "execution_count": 47,
   "metadata": {},
   "outputs": [],
   "source": [
    "# Website Extension\n",
    "\n",
    "extensions = ['none', 'com', 'org', 'net', 'other']\n",
    "\n",
    "# train\n",
    "train.loc[train.Website.isnull(), 'WebsiteExtension'] = 'none'\n",
    "train.loc[train.Website.str.contains('com').replace(np.nan, False), 'WebsiteExtension'] = 'com'\n",
    "train.loc[train.Website.str.contains('org').replace(np.nan, False), 'WebsiteExtension'] = 'org'\n",
    "train.loc[train.Website.str.contains('net').replace(np.nan, False), 'WebsiteExtension'] = 'net'\n",
    "train.loc[train.WebsiteExtension.isnull(), 'WebsiteExtension'] = 'other'\n",
    "train['WebsiteExtension'] = pd.Categorical(train.WebsiteExtension, categories=extensions)\n",
    "train_extension_dummies = pd.get_dummies(train.WebsiteExtension, prefix='EX')\n",
    "train = pd.concat([train, train_extension_dummies], axis=1)\n",
    "\n",
    "# test\n",
    "test.loc[test.Website.isnull(), 'WebsiteExtension'] = 'none'\n",
    "test.loc[test.Website.str.contains('com').replace(np.nan, False), 'WebsiteExtension'] = 'com'\n",
    "test.loc[test.Website.str.contains('org').replace(np.nan, False), 'WebsiteExtension'] = 'org'\n",
    "test.loc[test.Website.str.contains('net').replace(np.nan, False), 'WebsiteExtension'] = 'net'\n",
    "test.loc[test.WebsiteExtension.isnull(), 'WebsiteExtension'] = 'other'\n",
    "test['WebsiteExtension'] = pd.Categorical(test.WebsiteExtension, categories=extensions)\n",
    "test_extension_dummies = pd.get_dummies(test.WebsiteExtension, prefix='EX')\n",
    "test = pd.concat([test, test_extension_dummies], axis=1)"
   ]
  },
  {
   "cell_type": "code",
   "execution_count": 48,
   "metadata": {},
   "outputs": [],
   "source": [
    "# AreaCode\n",
    "\n",
    "# train\n",
    "train['AreaCode'] = train.PhoneNumber.str[:3]\n",
    "train['AreaCode'] = pd.Categorical(train.AreaCode)\n",
    "train_areacode_dummies = pd.get_dummies(train.AreaCode, prefix='AC')\n",
    "train = pd.concat([train, train_areacode_dummies], axis=1)\n",
    "\n",
    "# test\n",
    "test['AreaCode'] = test.PhoneNumber.str[:3]\n",
    "test['AreaCode'] = pd.Categorical(test.AreaCode, categories=train.AreaCode.cat.categories)\n",
    "test_areacode_dummies = pd.get_dummies(test.AreaCode, prefix='AC')\n",
    "test = pd.concat([test, test_areacode_dummies], axis=1)\n",
    "\n",
    "#--------------------------------------------------\n",
    "# Contact (convert to numeric, 1-4)\n",
    "\n",
    "# In this case, we know all the possible contact types\n",
    "contacts = [\"general line\", \"other\", \"manager\", \"owner\"]  # Note the order of the elements\n",
    "train['Contact'] = pd.Categorical(train.Contact, categories=contacts, ordered=True).codes\n",
    "test['Contact'] = pd.Categorical(test.Contact, categories=contacts, ordered=True).codes\n",
    "\n",
    "#--------------------------------------------------\n",
    "# FacebookLikes\n",
    "\n",
    "train.FacebookLikes.fillna(-1, inplace=True)\n",
    "test.FacebookLikes.fillna(-1, inplace=True)\n",
    "\n",
    "#--------------------------------------------------\n",
    "# TwitterFollowers\n",
    "\n",
    "train.TwitterFollowers.fillna(-1, inplace=True)\n",
    "test.TwitterFollowers.fillna(-1, inplace=True)\n"
   ]
  },
  {
   "cell_type": "code",
   "execution_count": 49,
   "metadata": {},
   "outputs": [],
   "source": [
    "# Random Forest Model\n",
    "\n",
    "features = ['Contact', 'FacebookLikes', 'TwitterFollowers'] + train_tob_dummies.columns.tolist() + train_areacode_dummies.columns.tolist() + test_areacode_dummies.columns.tolist()\n",
    "rf = RandomForestClassifier(n_estimators=200, max_features=.33, min_samples_leaf=3, random_state=2016)\n",
    "rf.fit(X=train[features].values, y=train.Sale.values)\n",
    "#--------------------------------------------------\n",
    "# Check the importance of features\n",
    "\n",
    "importances = pd.DataFrame({'Feature':features, 'Importance':rf.feature_importances_})\n",
    "importances.sort_values('Importance', ascending=False)\n",
    "\n",
    "#======================================================================================================\n",
    "# Make some predictions on the test set & evaluate the results\n",
    "\n",
    "test['ProbSale'] = rf.predict_proba(test[features].values)[:,1]\n"
   ]
  },
  {
   "cell_type": "code",
   "execution_count": 50,
   "metadata": {},
   "outputs": [
    {
     "name": "stdout",
     "output_type": "stream",
     "text": [
      "0    0.361556\n",
      "1    0.566923\n",
      "2    0.421090\n",
      "3    0.088121\n",
      "4    0.297857\n",
      "5    0.534341\n",
      "6    0.636237\n",
      "7    0.228545\n",
      "8    0.282940\n",
      "9    0.646413\n",
      "Name: ProbSale, dtype: float64\n"
     ]
    }
   ],
   "source": [
    "print test['ProbSale']"
   ]
  },
  {
   "cell_type": "code",
   "execution_count": 51,
   "metadata": {},
   "outputs": [
    {
     "data": {
      "text/plain": [
       "0.75"
      ]
     },
     "execution_count": 51,
     "metadata": {},
     "output_type": "execute_result"
    }
   ],
   "source": [
    "# Rank the predictions from most likely to least likely\n",
    "\n",
    "test.sort_values('ProbSale', inplace=True, ascending=False)\n",
    "test['ProbSaleRk'] = np.arange(test.shape[0])\n",
    "\n",
    "#--------------------------------------------------\n",
    "# Take a look\n",
    "\n",
    "test[['ProbSaleRk', 'CompanyName', 'ProbSale', 'Sale']]  \n",
    "\n",
    "#--------------------------------------------------\n",
    "# Evaluate the results using area under the ROC curve\n",
    "\n",
    "roc_auc_score(y_true=test.Sale, y_score=test.ProbSale)  # 0.75"
   ]
  },
  {
   "cell_type": "code",
   "execution_count": null,
   "metadata": {},
   "outputs": [],
   "source": []
  }
 ],
 "metadata": {
  "kernelspec": {
   "display_name": "Python 2",
   "language": "python",
   "name": "python2"
  },
  "language_info": {
   "codemirror_mode": {
    "name": "ipython",
    "version": 2
   },
   "file_extension": ".py",
   "mimetype": "text/x-python",
   "name": "python",
   "nbconvert_exporter": "python",
   "pygments_lexer": "ipython2",
   "version": "2.7.15"
  }
 },
 "nbformat": 4,
 "nbformat_minor": 2
}
